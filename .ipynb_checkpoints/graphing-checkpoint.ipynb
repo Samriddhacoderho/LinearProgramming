{
 "cells": [
  {
   "cell_type": "code",
   "execution_count": 1,
   "id": "538a8908",
   "metadata": {},
   "outputs": [],
   "source": [
    "import numpy as np\n",
    "import pandas as pd\n",
    "import matplotlib.pyplot as plt"
   ]
  },
  {
   "cell_type": "code",
   "execution_count": 2,
   "id": "bdef3b6c",
   "metadata": {},
   "outputs": [],
   "source": [
    "df=pd.read_csv('equations.csv')"
   ]
  },
  {
   "cell_type": "code",
   "execution_count": 4,
   "id": "4cf56447",
   "metadata": {},
   "outputs": [],
   "source": [
    "df.equation=df.equation.astype('int')"
   ]
  },
  {
   "cell_type": "code",
   "execution_count": 5,
   "id": "17b51809",
   "metadata": {},
   "outputs": [
    {
     "data": {
      "text/html": [
       "<div>\n",
       "<style scoped>\n",
       "    .dataframe tbody tr th:only-of-type {\n",
       "        vertical-align: middle;\n",
       "    }\n",
       "\n",
       "    .dataframe tbody tr th {\n",
       "        vertical-align: top;\n",
       "    }\n",
       "\n",
       "    .dataframe thead th {\n",
       "        text-align: right;\n",
       "    }\n",
       "</style>\n",
       "<table border=\"1\" class=\"dataframe\">\n",
       "  <thead>\n",
       "    <tr style=\"text-align: right;\">\n",
       "      <th></th>\n",
       "      <th>equation</th>\n",
       "    </tr>\n",
       "  </thead>\n",
       "  <tbody>\n",
       "    <tr>\n",
       "      <th>0</th>\n",
       "      <td>5</td>\n",
       "    </tr>\n",
       "    <tr>\n",
       "      <th>1</th>\n",
       "      <td>-6</td>\n",
       "    </tr>\n",
       "    <tr>\n",
       "      <th>2</th>\n",
       "      <td>-7</td>\n",
       "    </tr>\n",
       "    <tr>\n",
       "      <th>3</th>\n",
       "      <td>2</td>\n",
       "    </tr>\n",
       "    <tr>\n",
       "      <th>4</th>\n",
       "      <td>1</td>\n",
       "    </tr>\n",
       "    <tr>\n",
       "      <th>5</th>\n",
       "      <td>-5</td>\n",
       "    </tr>\n",
       "    <tr>\n",
       "      <th>6</th>\n",
       "      <td>1</td>\n",
       "    </tr>\n",
       "    <tr>\n",
       "      <th>7</th>\n",
       "      <td>0</td>\n",
       "    </tr>\n",
       "    <tr>\n",
       "      <th>8</th>\n",
       "      <td>0</td>\n",
       "    </tr>\n",
       "    <tr>\n",
       "      <th>9</th>\n",
       "      <td>0</td>\n",
       "    </tr>\n",
       "    <tr>\n",
       "      <th>10</th>\n",
       "      <td>1</td>\n",
       "    </tr>\n",
       "    <tr>\n",
       "      <th>11</th>\n",
       "      <td>0</td>\n",
       "    </tr>\n",
       "  </tbody>\n",
       "</table>\n",
       "</div>"
      ],
      "text/plain": [
       "    equation\n",
       "0          5\n",
       "1         -6\n",
       "2         -7\n",
       "3          2\n",
       "4          1\n",
       "5         -5\n",
       "6          1\n",
       "7          0\n",
       "8          0\n",
       "9          0\n",
       "10         1\n",
       "11         0"
      ]
     },
     "execution_count": 5,
     "metadata": {},
     "output_type": "execute_result"
    }
   ],
   "source": [
    "df"
   ]
  },
  {
   "cell_type": "code",
   "execution_count": 9,
   "id": "cc4e2e56",
   "metadata": {},
   "outputs": [],
   "source": [
    "a,b,c,d,e,f,g,h,i,j,k,l=df['equation'][0],df['equation'][1],df['equation'][2],df['equation'][3],df['equation'][4],df['equation'][5],df['equation'][6],df['equation'][7],df['equation'][8],df['equation'][9],df['equation'][10],df['equation'][11]"
   ]
  },
  {
   "cell_type": "code",
   "execution_count": 14,
   "id": "9bf495a8",
   "metadata": {},
   "outputs": [
    {
     "name": "stderr",
     "output_type": "stream",
     "text": [
      "C:\\Users\\WindowsSRS\\AppData\\Local\\Temp\\ipykernel_6420\\4174329312.py:1: RuntimeWarning: divide by zero encountered in scalar divide\n",
      "  slope = [-a/b, -d/e, -g/h, -j/k]\n",
      "C:\\Users\\WindowsSRS\\AppData\\Local\\Temp\\ipykernel_6420\\4174329312.py:2: RuntimeWarning: divide by zero encountered in scalar divide\n",
      "  intercepts = [-c/b, -f/e, -i/h, -l/k]\n",
      "C:\\Users\\WindowsSRS\\AppData\\Local\\Temp\\ipykernel_6420\\4174329312.py:7: RuntimeWarning: invalid value encountered in add\n",
      "  y_values = slope[i] * x_values + intercepts[i]\n",
      "No artists with labels found to put in legend.  Note that artists whose label start with an underscore are ignored when legend() is called with no argument.\n"
     ]
    },
    {
     "data": {
      "image/png": "[encoded data removed]",
      "text/plain": [
       "<Figure size 640x480 with 1 Axes>"
      ]
     },
     "metadata": {},
     "output_type": "display_data"
    }
   ],
   "source": [
    "\n",
    "\n",
    "slope = [-a/b, -d/e, -g/h, -j/k]\n",
    "intercepts = [-c/b, -f/e, -i/h, -l/k]\n",
    "x_values = np.linspace(-10, 10, 400)\n",
    "\n",
    "# Plot each line separately\n",
    "for i in range(len(slope)):\n",
    "    y_values = slope[i] * x_values + intercepts[i]\n",
    "    plt.plot(x_values, y_values, label=f'Line {i+1}')\n",
    "\n",
    "plt.grid(True)\n",
    "plt.legend()\n",
    "plt.axhline(0, color='black', linewidth=0.5)\n",
    "plt.axvline(0, color='black', linewidth=0.5)\n",
    "plt.show()\n"
   ]
  },
  {
   "cell_type": "code",
   "execution_count": null,
   "id": "d62ccc9e",
   "metadata": {},
   "outputs": [],
   "source": []
  }
 ],
 "metadata": {
  "kernelspec": {
   "display_name": "Python 3 (ipykernel)",
   "language": "python",
   "name": "python3"
  },
  "language_info": {
   "codemirror_mode": {
    "name": "ipython",
    "version": 3
   },
   "file_extension": ".py",
   "mimetype": "text/x-python",
   "name": "python",
   "nbconvert_exporter": "python",
   "pygments_lexer": "ipython3",
   "version": "3.11.3"
  }
 },
 "nbformat": 4,
 "nbformat_minor": 5
}
